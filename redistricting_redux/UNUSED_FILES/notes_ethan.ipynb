{
 "cells": [
  {
   "cell_type": "code",
   "execution_count": 188,
   "id": "dfbde52f-35ab-481e-8701-0840d1e61615",
   "metadata": {},
   "outputs": [],
   "source": [
    "from draw_random_maps import *\n",
    "from load_state_data import *"
   ]
  },
  {
   "cell_type": "code",
   "execution_count": 189,
   "id": "a5fbf26a",
   "metadata": {},
   "outputs": [],
   "source": [
    "def plot_redblue_notebook(df, dcol=\"G20PREDBID\", rcol=\"G20PRERTRU\", num_dists=14):\n",
    "    '''\n",
    "    Plot a map that color-codes each precinct by the partisan margin of the vote\n",
    "    in the district it's part of, i.e. dark blue if it largely voted Democratic,\n",
    "    dark red if it overwhelmingly voted Republican, and white if it was close to even.\n",
    "\n",
    "    Inputs:\n",
    "        -df (geopandas DataFrame): state data by precincts/VTDs, with polygons\n",
    "        -dcol (str): Name of column that contains Democratic voteshare data\n",
    "        (i.e. estimated number of votes cast for Joe Biden in the precinct in\n",
    "        the November 2020 presidential election)\n",
    "        -rcol (str): Name of the column that contains Republican voteshare data\n",
    "        (i.e. estimated number of votes cast for Donald Trump in the precinct\n",
    "        in the November 2020 presidnetial election)\n",
    "        -num_dists (int):\n",
    "        -export_to (str or None): TODO: location to export the map to\n",
    "\n",
    "    Returns: None, displays plot on screen and/or saves image to file\n",
    "    '''\n",
    "    \n",
    "    #TODO: Move this to df setup, and have it be by precinct, with dissolve aggfunc-ing it \n",
    "    df['raw_margin'] = None\n",
    "    for i in range(1, num_dists+1): #this should be doable on one line vectorized\n",
    "        df.loc[df.dist_id == i, 'raw_margin'] = blue_red_margin(df, dcol, rcol, i)\n",
    "\n",
    "    #TODO: figure out how to push legend off map, or maybe turn it into categorical color bar\n",
    "    df.plot(column='raw_margin', cmap='seismic_r')\n",
    "    #fig, ax = plt.subplots(1)\n",
    "    #sm = plt.cm.ScalarMappable(cmap='seismic_r')\n",
    "    #cbar = fig.colorbar(sm) #all of these extremely basic things from many matplotlib StackOverflow answers fail\n",
    "\n",
    "    plt.pyplot.show()"
   ]
  },
  {
   "cell_type": "code",
   "execution_count": 229,
   "id": "e7ebd15b",
   "metadata": {},
   "outputs": [],
   "source": [
    "def load_state(state_input, init_neighbors=False, affix_neighbors=True):\n",
    "    '''\n",
    "    Helper function that actually imports the state after selecting it.\n",
    "\n",
    "    Inputs:\n",
    "        -state_input (str): 2-letter state postal code abbreviation\n",
    "    Returns (geopandas GeoDataFrame)\n",
    "    '''\n",
    "    state_fullname = [k for k, v in SUPPORTED_STATES.items() if v == state_input][0] #DRY\n",
    "\n",
    "    print(f\"Importing {state_fullname} 2020 Redistricting Data Hub data...\")\n",
    "    fp = f\"merged_shps/{state_input}_VTD_merged.shp\"\n",
    "    state_data = gpd.read_file(fp)\n",
    "    if \"Tot_2020_t\" in state_data.columns:\n",
    "        state_data.rename(columns={\"Tot_2020_t\",\"POP100\"})\n",
    "        print(\"Renamed population column to POP100\")\n",
    "    print(f\"{state_input} 2020 Redistricting Data Hub shapefile data imported\")\n",
    "    if init_neighbors:\n",
    "        set_precinct_neighbors(state_data, state_input)\n",
    "        print(\"Precinct neighbors calculated\")\n",
    "    if affix_neighbors: #maybe figure out how to do these as command line flags\n",
    "        neighbor_fp = f'merged_shps/{state_input}_2020_neighbors.csv'\n",
    "        affix_neighbors_list(state_data, neighbor_fp)\n",
    "        print(\"Neighbors list affixed from file\")\n",
    "    state_data['dist_id'] = None\n",
    "\n",
    "    return state_data   \n"
   ]
  },
  {
   "cell_type": "code",
   "execution_count": 230,
   "id": "e2dd703a-b2d7-4a07-921c-abdd0fb22c55",
   "metadata": {},
   "outputs": [
    {
     "name": "stdout",
     "output_type": "stream",
     "text": [
      "Importing Georgia 2020 Redistricting Data Hub data...\n",
      "GA 2020 Redistricting Data Hub shapefile data imported\n",
      "Neighbors list affixed from file\n"
     ]
    }
   ],
   "source": [
    "df = load_state('GA')"
   ]
  },
  {
   "cell_type": "code",
   "execution_count": 231,
   "id": "84fa3d94-1dea-4aab-ad60-5a3f6bae3b2a",
   "metadata": {
    "scrolled": true,
    "tags": []
   },
   "outputs": [
    {
     "name": "stdout",
     "output_type": "stream",
     "text": [
      "Clearing off previous district drawings, if any...\n",
      "Throwing dart for district 1 at precinct 13123000008...\n",
      "Throwing dart for district 2 at precinct 1314100004A...\n",
      "Throwing dart for district 3 at precinct 13127005913...\n",
      "Throwing dart for district 4 at precinct 131210005A2...\n",
      "Throwing dart for district 5 at precinct 13285000003...\n",
      "Throwing dart for district 6 at precinct 13245000707...\n",
      "Throwing dart for district 7 at precinct 1312100SS01...\n",
      "Throwing dart for district 8 at precinct 1329900200B...\n",
      "Throwing dart for district 9 at precinct 1305900006D...\n",
      "Throwing dart for district 10 at precinct 1306700DC01...\n",
      "Throwing dart for district 11 at precinct 1331500005A...\n",
      "Throwing dart for district 12 at precinct 1312100007H...\n",
      "Throwing dart for district 13 at precinct 13217000004...\n",
      "Throwing dart for district 14 at precinct 13215000118...\n",
      "2684 unfilled precincts remain\n",
      "2609 unfilled precincts remain\n",
      "2468 unfilled precincts remain\n",
      "2243 unfilled precincts remain\n",
      "1953 unfilled precincts remain\n",
      "1614 unfilled precincts remain\n",
      "1284 unfilled precincts remain\n",
      "District 7 has hit its target population size\n",
      "District 13 has hit its target population size\n",
      "1016 unfilled precincts remain\n",
      "District 10 has hit its target population size\n",
      "District 1 has hit its target population size\n",
      "742 unfilled precincts remain\n",
      "District 5 has hit its target population size\n",
      "District 9 has hit its target population size\n",
      "District 4 has hit its target population size\n",
      "624 unfilled precincts remain\n",
      "District 11 has hit its target population size\n",
      "540 unfilled precincts remain\n",
      "473 unfilled precincts remain\n",
      "404 unfilled precincts remain\n",
      "355 unfilled precincts remain\n",
      "District 12 has hit its target population size\n",
      "336 unfilled precincts remain\n",
      "328 unfilled precincts remain\n",
      "327 unfilled precincts remain\n",
      "324 unfilled precincts remain\n",
      "322 unfilled precincts remain\n",
      "322 unfilled precincts remain\n",
      "Switching methods to fill rest of map...\n",
      "322 unfilled precincts remaining\n",
      "13 unfilled precincts remaining\n",
      "5 unfilled precincts remaining\n",
      "0 unfilled precincts remaining\n",
      "Cleanup complete. All holes in districts filled. Districts expanded to fill empty space.\n",
      "{1: 999623, 2: 588643, 3: 513935, 4: 933186, 5: 958392, 6: 339842, 7: 929844, 8: 483087, 9: 984567, 10: 876361, 11: 776601, 12: 925779, 13: 955050, 14: 446998}\n"
     ]
    }
   ],
   "source": [
    "draw_dart_throw_map(df, num_districts = 14)"
   ]
  },
  {
   "cell_type": "code",
   "execution_count": 228,
   "id": "6c92199a-7c5c-42af-ae05-077488f8827b",
   "metadata": {},
   "outputs": [
    {
     "name": "stderr",
     "output_type": "stream",
     "text": [
      "c:\\Users\\Ethan\\30122-project-redistricting-redux\\.venv\\lib\\site-packages\\geopandas\\plotting.py:807: FutureWarning: In a future version, the Index constructor will not infer numeric dtypes when passed object-dtype sequences (matching Series behavior)\n",
      "  cat = pd.Categorical(values, categories=categories)\n"
     ]
    },
    {
     "data": {
      "image/png": "[encoded data removed]",
      "text/plain": [
       "<Figure size 640x480 with 1 Axes>"
      ]
     },
     "metadata": {},
     "output_type": "display_data"
    }
   ],
   "source": [
    "plot_redblue_notebook(df, dcol=\"G20PREDBID\", rcol=\"G20PRERTRU\", num_dists=14)"
   ]
  },
  {
   "cell_type": "code",
   "execution_count": 223,
   "id": "42d8986e",
   "metadata": {},
   "outputs": [],
   "source": [
    "neighbor_dict = {\n",
    "    id: n for (id, n) in zip(df.GEOID20, df.neighbors)\n",
    "}"
   ]
  },
  {
   "cell_type": "code",
   "execution_count": 224,
   "id": "0c1ad3de",
   "metadata": {},
   "outputs": [
    {
     "name": "stderr",
     "output_type": "stream",
     "text": [
      "C:\\Users\\Ethan\\AppData\\Local\\Temp\\ipykernel_10760\\2018466249.py:2: FutureWarning: The default value of numeric_only in DataFrameGroupBy.sum is deprecated. In a future version, numeric_only will default to False. Either specify numeric_only or select only columns which should be valid for the function.\n",
      "  df_trade_pop = df_trade.groupby('dist_id').sum()[['POP100']].reset_index()\n"
     ]
    }
   ],
   "source": [
    "df_trade = pd.DataFrame(df)\n",
    "df_trade_pop = df_trade.groupby('dist_id').sum()[['POP100']].reset_index()\n"
   ]
  },
  {
   "cell_type": "code",
   "execution_count": 232,
   "id": "3f648846",
   "metadata": {},
   "outputs": [],
   "source": [
    "run = 0\n",
    "run_dict = {}"
   ]
  },
  {
   "cell_type": "code",
   "execution_count": 233,
   "id": "ba6e5fc1",
   "metadata": {},
   "outputs": [],
   "source": [
    "def batch_balance_transfer(df, run=run, run_dict=run_dict, allowed_deviation=70000):\n",
    "    '''\n",
    "    Identifies the border between the smallest population and its largest\n",
    "    neighbor and trade all precincts on that border from the larger district\n",
    "    to the smaller district. This is a heavy-handed approach, but\n",
    "    it does a lot of balancing before a slower, more careful approach is needed.\n",
    "\n",
    "    Inputs:\n",
    "        -df (geopandas GeoDataFrame): state data by precinct/VTD. Every precinct \n",
    "        should have a dist_id assigned before calling this function.\n",
    "        -allowed_deviation (int): Largest allowable difference between the \n",
    "        population of the most populous district and the population of the \n",
    "        least populous district.\n",
    "    \n",
    "    Returns: none, modifies df in-place.\n",
    "    '''\n",
    "    df_trade = pd.DataFrame(df)\n",
    "    df_trade_pop = df_trade.groupby('dist_id').sum()[['POP100']].reset_index()\n",
    "    recent_transfer = []\n",
    "    while (df_trade_pop.POP100.max() - df_trade_pop.POP100.min()) > allowed_deviation:\n",
    "    #small districts take\n",
    "        df_trade = pd.DataFrame(df)\n",
    "        df_trade_pop = df_trade.groupby('dist_id').sum()[['POP100']].reset_index()\n",
    "\n",
    "        smallest = df_trade_pop[df_trade_pop.POP100 == min(df_trade_pop.POP100)]\n",
    "\n",
    "        df_rec = df[df.dist_id == smallest.dist_id.item()]\n",
    "\n",
    "        dist_nabes = []\n",
    "        nabe_other_dist = []\n",
    "        for prec in df_rec['GEOID20']:\n",
    "            nabes = neighbor_dict[prec]\n",
    "            for n in nabes:\n",
    "                if len(n) != 22:\n",
    "                    dist = df[df.GEOID20 == n].dist_id.item()\n",
    "                    if dist != smallest.dist_id.item():\n",
    "                        dist_nabes.append(dist)\n",
    "                    \n",
    "                    nabe_other_dist.append(n)\n",
    "\n",
    "\n",
    "        dist_set = set(dist_nabes)\n",
    "\n",
    "        neighbor_pop_dict = {}\n",
    "        for i in dist_set:\n",
    "            pop = df_district_pop[df_district_pop.dist_id == i][\"POP100\"].item()\n",
    "            neighbor_pop_dict[i] = pop\n",
    "\n",
    "        max = 0\n",
    "        comp_district = None\n",
    "\n",
    "        for k,v in neighbor_pop_dict.items():\n",
    "            diff = abs(smallest.POP100.item() - v)\n",
    "            if diff > max:\n",
    "                comp_district = k\n",
    "                max = diff\n",
    "\n",
    "\n",
    "        eligible = [\n",
    "            nabe for nabe in nabe_other_dist if df[\n",
    "                df.GEOID20 == nabe\n",
    "            ].dist_id.item() == comp_district]\n",
    "\n",
    "        recent_transfer.append(eligible)\n",
    "        \n",
    "        df.loc[df['GEOID20'].isin(eligible), 'dist_id'] = smallest.dist_id.item()\n",
    "        print(df_trade_pop.POP100.max() - df_trade_pop.POP100.min())\n",
    "\n",
    "        if len(recent_transfer) > 4:\n",
    "            recent_transfer.pop(0)\n",
    "            if (recent_transfer[0] == recent_transfer[2]) and recent_transfer[1] == recent_transfer[3]:\n",
    "                break \n",
    "            \n",
    "        idx = {name: i for i, name in enumerate(list(df), start=1)}\n",
    "        recapture_orphan_precincts(df, idx)\n",
    "        run+=1\n",
    "        run_dict[run] = df_trade_pop.POP100.max() - df_trade_pop.POP100.min()\n"
   ]
  },
  {
   "cell_type": "code",
   "execution_count": 234,
   "id": "948bbe13",
   "metadata": {},
   "outputs": [],
   "source": [
    "def single_balance_transfer(df, run=run, run_dict=run_dict, allowed_deviation=70000):\n",
    "    '''\n",
    "    Identifies the border between the smallest population and its largest\n",
    "    neighbor and trade all precincts on that border from the larger district\n",
    "    to the smaller district. This is a heavy-handed approach, but\n",
    "    it does a lot of balancing before a slower, more careful approach is needed.\n",
    "\n",
    "    Inputs:\n",
    "        -df (geopandas GeoDataFrame): state data by precinct/VTD. Every precinct \n",
    "        should have a dist_id assigned before calling this function.\n",
    "        -allowed_deviation (int): Largest allowable difference between the \n",
    "        population of the most populous district and the population of the \n",
    "        least populous district.\n",
    "    \n",
    "    Returns: none, modifies df in-place.\n",
    "    '''\n",
    "    df_trade = pd.DataFrame(df)\n",
    "    df_trade_pop = df_trade.groupby('dist_id').sum()[['POP100']].reset_index()\n",
    "    recent_transfer = []\n",
    "\n",
    "    second_choice = False\n",
    "    while (df_trade_pop.POP100.max() - df_trade_pop.POP100.min()) > allowed_deviation:\n",
    "    #small districts take\n",
    "        df_trade = pd.DataFrame(df)\n",
    "        df_trade_pop = df_trade.groupby('dist_id').sum()[['POP100']].reset_index()\n",
    "\n",
    "        smallest = df_trade_pop[df_trade_pop.POP100 == min(df_trade_pop.POP100)]\n",
    "\n",
    "        df_rec = df[df.dist_id == smallest.dist_id.item()]\n",
    "\n",
    "        dist_nabes = []\n",
    "        nabe_other_dist = []\n",
    "        for prec in df_rec['GEOID20']:\n",
    "            nabes = neighbor_dict[prec]\n",
    "            for n in nabes:\n",
    "                if len(n) != 22:\n",
    "                    dist = df[df.GEOID20 == n].dist_id.item()\n",
    "                    if dist != smallest.dist_id.item():\n",
    "                        dist_nabes.append(dist)\n",
    "                    \n",
    "                    nabe_other_dist.append(n)\n",
    "\n",
    "\n",
    "        dist_set = set(dist_nabes)\n",
    "\n",
    "        neighbor_pop_dict = {}\n",
    "        for i in dist_set:\n",
    "            pop = df_trade_pop[df_trade_pop.dist_id == i][\"POP100\"].item()\n",
    "            neighbor_pop_dict[i] = pop\n",
    "\n",
    "        df_neighbor_pop = pd.DataFrame.from_dict(\n",
    "            neighbor_pop_dict, orient = 'index').sort_values(\n",
    "                0, ascending=False).reset_index()\n",
    "        \n",
    "        if not second_choice:\n",
    "            comp_district = df_neighbor_pop.loc[0, 'index']\n",
    "        else:\n",
    "            print(df_neighbor_pop)\n",
    "            comp_district = df_neighbor_pop.loc[1, 'index']\n",
    "\n",
    "\n",
    "        eligible = [\n",
    "            nabe for nabe in nabe_other_dist if df[\n",
    "                df.GEOID20 == nabe\n",
    "            ].dist_id.item() == comp_district]\n",
    "\n",
    "        max_pop = 0\n",
    "        transfer = None\n",
    "        for e in eligible:\n",
    "            if df.loc[df.GEOID20 == e, 'POP100'].item() > max_pop:\n",
    "                max_pop = df.loc[3, \"POP100\"].item()\n",
    "                transfer = e\n",
    "\n",
    "        recent_transfer.append(transfer)\n",
    "\n",
    "\n",
    "        df.loc[df['GEOID20'] == transfer, 'dist_id'] = smallest.dist_id.item()\n",
    "        print(df_trade_pop.POP100.max() - df_trade_pop.POP100.min())\n",
    "\n",
    "        # second choice mode is a way to inject some noise to prevent\n",
    "        # trading precincts back and forth indefinitely\n",
    "\n",
    "        second_choice_count = 0\n",
    "        if second_choice:\n",
    "            second_choice_count += 1\n",
    "        \n",
    "        # after 10 times trading to the second-choice district,\n",
    "        # hopefully we can trade with the largest possible district again\n",
    "        if second_choice_count == 10:\n",
    "            second_choice = False\n",
    "        if len(recent_transfer) > 4:\n",
    "            recent_transfer.pop(0)\n",
    "            if (\n",
    "                recent_transfer[0] == recent_transfer[2]\n",
    "                ) and (\n",
    "                    recent_transfer[1] == recent_transfer[3]\n",
    "                    ):\n",
    "                if second_choice == False:\n",
    "                    second_choice = True\n",
    "                else:\n",
    "                    second_choice = False\n",
    "    \n",
    "    idx = {name: i for i, name in enumerate(list(df), start=1)}\n",
    "    recapture_orphan_precincts(df, idx)\n",
    "    \n",
    "    run+=1\n",
    "    run_dict[run] = df_trade_pop.POP100.max() - df_trade_pop.POP100.min()"
   ]
  },
  {
   "cell_type": "code",
   "execution_count": 235,
   "id": "78802836",
   "metadata": {},
   "outputs": [
    {
     "name": "stderr",
     "output_type": "stream",
     "text": [
      "C:\\Users\\Ethan\\AppData\\Local\\Temp\\ipykernel_10760\\3380260959.py:18: FutureWarning: The default value of numeric_only in DataFrameGroupBy.sum is deprecated. In a future version, numeric_only will default to False. Either specify numeric_only or select only columns which should be valid for the function.\n",
      "  df_trade_pop = df_trade.groupby('dist_id').sum()[['POP100']].reset_index()\n",
      "C:\\Users\\Ethan\\AppData\\Local\\Temp\\ipykernel_10760\\3380260959.py:23: FutureWarning: The default value of numeric_only in DataFrameGroupBy.sum is deprecated. In a future version, numeric_only will default to False. Either specify numeric_only or select only columns which should be valid for the function.\n",
      "  df_trade_pop = df_trade.groupby('dist_id').sum()[['POP100']].reset_index()\n"
     ]
    },
    {
     "name": "stdout",
     "output_type": "stream",
     "text": [
      "659781\n",
      "Reclaiming orphan precinct 13255000021...\n"
     ]
    },
    {
     "name": "stderr",
     "output_type": "stream",
     "text": [
      "C:\\Users\\Ethan\\AppData\\Local\\Temp\\ipykernel_10760\\3380260959.py:23: FutureWarning: The default value of numeric_only in DataFrameGroupBy.sum is deprecated. In a future version, numeric_only will default to False. Either specify numeric_only or select only columns which should be valid for the function.\n",
      "  df_trade_pop = df_trade.groupby('dist_id').sum()[['POP100']].reset_index()\n"
     ]
    },
    {
     "name": "stdout",
     "output_type": "stream",
     "text": [
      "626847\n",
      "Reclaiming orphan precinct 13245000806...\n"
     ]
    },
    {
     "name": "stderr",
     "output_type": "stream",
     "text": [
      "C:\\Users\\Ethan\\AppData\\Local\\Temp\\ipykernel_10760\\3380260959.py:23: FutureWarning: The default value of numeric_only in DataFrameGroupBy.sum is deprecated. In a future version, numeric_only will default to False. Either specify numeric_only or select only columns which should be valid for the function.\n",
      "  df_trade_pop = df_trade.groupby('dist_id').sum()[['POP100']].reset_index()\n"
     ]
    },
    {
     "name": "stdout",
     "output_type": "stream",
     "text": [
      "591718\n"
     ]
    },
    {
     "name": "stderr",
     "output_type": "stream",
     "text": [
      "C:\\Users\\Ethan\\AppData\\Local\\Temp\\ipykernel_10760\\3380260959.py:23: FutureWarning: The default value of numeric_only in DataFrameGroupBy.sum is deprecated. In a future version, numeric_only will default to False. Either specify numeric_only or select only columns which should be valid for the function.\n",
      "  df_trade_pop = df_trade.groupby('dist_id').sum()[['POP100']].reset_index()\n"
     ]
    },
    {
     "name": "stdout",
     "output_type": "stream",
     "text": [
      "560208\n"
     ]
    },
    {
     "name": "stderr",
     "output_type": "stream",
     "text": [
      "C:\\Users\\Ethan\\AppData\\Local\\Temp\\ipykernel_10760\\3380260959.py:23: FutureWarning: The default value of numeric_only in DataFrameGroupBy.sum is deprecated. In a future version, numeric_only will default to False. Either specify numeric_only or select only columns which should be valid for the function.\n",
      "  df_trade_pop = df_trade.groupby('dist_id').sum()[['POP100']].reset_index()\n"
     ]
    },
    {
     "name": "stdout",
     "output_type": "stream",
     "text": [
      "559027\n"
     ]
    },
    {
     "name": "stderr",
     "output_type": "stream",
     "text": [
      "C:\\Users\\Ethan\\AppData\\Local\\Temp\\ipykernel_10760\\3380260959.py:23: FutureWarning: The default value of numeric_only in DataFrameGroupBy.sum is deprecated. In a future version, numeric_only will default to False. Either specify numeric_only or select only columns which should be valid for the function.\n",
      "  df_trade_pop = df_trade.groupby('dist_id').sum()[['POP100']].reset_index()\n"
     ]
    },
    {
     "name": "stdout",
     "output_type": "stream",
     "text": [
      "552625\n",
      "Reclaiming orphan precinct 13293000561...\n"
     ]
    },
    {
     "name": "stderr",
     "output_type": "stream",
     "text": [
      "C:\\Users\\Ethan\\AppData\\Local\\Temp\\ipykernel_10760\\3380260959.py:23: FutureWarning: The default value of numeric_only in DataFrameGroupBy.sum is deprecated. In a future version, numeric_only will default to False. Either specify numeric_only or select only columns which should be valid for the function.\n",
      "  df_trade_pop = df_trade.groupby('dist_id').sum()[['POP100']].reset_index()\n"
     ]
    },
    {
     "name": "stdout",
     "output_type": "stream",
     "text": [
      "551958\n",
      "Reclaiming orphan precinct 132210000CR...\n"
     ]
    },
    {
     "name": "stderr",
     "output_type": "stream",
     "text": [
      "C:\\Users\\Ethan\\AppData\\Local\\Temp\\ipykernel_10760\\3380260959.py:23: FutureWarning: The default value of numeric_only in DataFrameGroupBy.sum is deprecated. In a future version, numeric_only will default to False. Either specify numeric_only or select only columns which should be valid for the function.\n",
      "  df_trade_pop = df_trade.groupby('dist_id').sum()[['POP100']].reset_index()\n"
     ]
    },
    {
     "name": "stdout",
     "output_type": "stream",
     "text": [
      "547174\n"
     ]
    },
    {
     "name": "stderr",
     "output_type": "stream",
     "text": [
      "C:\\Users\\Ethan\\AppData\\Local\\Temp\\ipykernel_10760\\3380260959.py:23: FutureWarning: The default value of numeric_only in DataFrameGroupBy.sum is deprecated. In a future version, numeric_only will default to False. Either specify numeric_only or select only columns which should be valid for the function.\n",
      "  df_trade_pop = df_trade.groupby('dist_id').sum()[['POP100']].reset_index()\n"
     ]
    },
    {
     "name": "stdout",
     "output_type": "stream",
     "text": [
      "529756\n"
     ]
    },
    {
     "name": "stderr",
     "output_type": "stream",
     "text": [
      "C:\\Users\\Ethan\\AppData\\Local\\Temp\\ipykernel_10760\\3380260959.py:23: FutureWarning: The default value of numeric_only in DataFrameGroupBy.sum is deprecated. In a future version, numeric_only will default to False. Either specify numeric_only or select only columns which should be valid for the function.\n",
      "  df_trade_pop = df_trade.groupby('dist_id').sum()[['POP100']].reset_index()\n"
     ]
    },
    {
     "name": "stdout",
     "output_type": "stream",
     "text": [
      "526016\n",
      "Reclaiming orphan precinct 13171001711...\n"
     ]
    },
    {
     "name": "stderr",
     "output_type": "stream",
     "text": [
      "C:\\Users\\Ethan\\AppData\\Local\\Temp\\ipykernel_10760\\3380260959.py:23: FutureWarning: The default value of numeric_only in DataFrameGroupBy.sum is deprecated. In a future version, numeric_only will default to False. Either specify numeric_only or select only columns which should be valid for the function.\n",
      "  df_trade_pop = df_trade.groupby('dist_id').sum()[['POP100']].reset_index()\n"
     ]
    },
    {
     "name": "stdout",
     "output_type": "stream",
     "text": [
      "516536\n",
      "Reclaiming orphan precinct 13003000004...\n",
      "Reclaiming orphan precinct 1300700000N...\n",
      "Reclaiming orphan precinct 13095000026...\n"
     ]
    },
    {
     "name": "stderr",
     "output_type": "stream",
     "text": [
      "C:\\Users\\Ethan\\AppData\\Local\\Temp\\ipykernel_10760\\3380260959.py:23: FutureWarning: The default value of numeric_only in DataFrameGroupBy.sum is deprecated. In a future version, numeric_only will default to False. Either specify numeric_only or select only columns which should be valid for the function.\n",
      "  df_trade_pop = df_trade.groupby('dist_id').sum()[['POP100']].reset_index()\n"
     ]
    },
    {
     "name": "stdout",
     "output_type": "stream",
     "text": [
      "510553\n",
      "Reclaiming orphan precinct 13195000COL...\n"
     ]
    },
    {
     "name": "stderr",
     "output_type": "stream",
     "text": [
      "C:\\Users\\Ethan\\AppData\\Local\\Temp\\ipykernel_10760\\3380260959.py:23: FutureWarning: The default value of numeric_only in DataFrameGroupBy.sum is deprecated. In a future version, numeric_only will default to False. Either specify numeric_only or select only columns which should be valid for the function.\n",
      "  df_trade_pop = df_trade.groupby('dist_id').sum()[['POP100']].reset_index()\n"
     ]
    },
    {
     "name": "stdout",
     "output_type": "stream",
     "text": [
      "494305\n"
     ]
    },
    {
     "name": "stderr",
     "output_type": "stream",
     "text": [
      "C:\\Users\\Ethan\\AppData\\Local\\Temp\\ipykernel_10760\\3380260959.py:23: FutureWarning: The default value of numeric_only in DataFrameGroupBy.sum is deprecated. In a future version, numeric_only will default to False. Either specify numeric_only or select only columns which should be valid for the function.\n",
      "  df_trade_pop = df_trade.groupby('dist_id').sum()[['POP100']].reset_index()\n"
     ]
    },
    {
     "name": "stdout",
     "output_type": "stream",
     "text": [
      "492903\n",
      "Reclaiming orphan precinct 13199000011...\n"
     ]
    },
    {
     "name": "stderr",
     "output_type": "stream",
     "text": [
      "C:\\Users\\Ethan\\AppData\\Local\\Temp\\ipykernel_10760\\3380260959.py:23: FutureWarning: The default value of numeric_only in DataFrameGroupBy.sum is deprecated. In a future version, numeric_only will default to False. Either specify numeric_only or select only columns which should be valid for the function.\n",
      "  df_trade_pop = df_trade.groupby('dist_id').sum()[['POP100']].reset_index()\n"
     ]
    },
    {
     "name": "stdout",
     "output_type": "stream",
     "text": [
      "489061\n"
     ]
    },
    {
     "name": "stderr",
     "output_type": "stream",
     "text": [
      "C:\\Users\\Ethan\\AppData\\Local\\Temp\\ipykernel_10760\\3380260959.py:23: FutureWarning: The default value of numeric_only in DataFrameGroupBy.sum is deprecated. In a future version, numeric_only will default to False. Either specify numeric_only or select only columns which should be valid for the function.\n",
      "  df_trade_pop = df_trade.groupby('dist_id').sum()[['POP100']].reset_index()\n"
     ]
    },
    {
     "name": "stdout",
     "output_type": "stream",
     "text": [
      "485688\n"
     ]
    },
    {
     "name": "stderr",
     "output_type": "stream",
     "text": [
      "C:\\Users\\Ethan\\AppData\\Local\\Temp\\ipykernel_10760\\3380260959.py:23: FutureWarning: The default value of numeric_only in DataFrameGroupBy.sum is deprecated. In a future version, numeric_only will default to False. Either specify numeric_only or select only columns which should be valid for the function.\n",
      "  df_trade_pop = df_trade.groupby('dist_id').sum()[['POP100']].reset_index()\n"
     ]
    },
    {
     "name": "stdout",
     "output_type": "stream",
     "text": [
      "482769\n",
      "Reclaiming orphan precinct 1310300005A...\n"
     ]
    },
    {
     "name": "stderr",
     "output_type": "stream",
     "text": [
      "C:\\Users\\Ethan\\AppData\\Local\\Temp\\ipykernel_10760\\3380260959.py:23: FutureWarning: The default value of numeric_only in DataFrameGroupBy.sum is deprecated. In a future version, numeric_only will default to False. Either specify numeric_only or select only columns which should be valid for the function.\n",
      "  df_trade_pop = df_trade.groupby('dist_id').sum()[['POP100']].reset_index()\n"
     ]
    },
    {
     "name": "stdout",
     "output_type": "stream",
     "text": [
      "499371\n",
      "Reclaiming orphan precinct 13195000HAR...\n"
     ]
    },
    {
     "name": "stderr",
     "output_type": "stream",
     "text": [
      "C:\\Users\\Ethan\\AppData\\Local\\Temp\\ipykernel_10760\\3380260959.py:23: FutureWarning: The default value of numeric_only in DataFrameGroupBy.sum is deprecated. In a future version, numeric_only will default to False. Either specify numeric_only or select only columns which should be valid for the function.\n",
      "  df_trade_pop = df_trade.groupby('dist_id').sum()[['POP100']].reset_index()\n"
     ]
    },
    {
     "name": "stdout",
     "output_type": "stream",
     "text": [
      "479036\n"
     ]
    },
    {
     "name": "stderr",
     "output_type": "stream",
     "text": [
      "C:\\Users\\Ethan\\AppData\\Local\\Temp\\ipykernel_10760\\3380260959.py:23: FutureWarning: The default value of numeric_only in DataFrameGroupBy.sum is deprecated. In a future version, numeric_only will default to False. Either specify numeric_only or select only columns which should be valid for the function.\n",
      "  df_trade_pop = df_trade.groupby('dist_id').sum()[['POP100']].reset_index()\n"
     ]
    },
    {
     "name": "stdout",
     "output_type": "stream",
     "text": [
      "470690\n"
     ]
    },
    {
     "name": "stderr",
     "output_type": "stream",
     "text": [
      "C:\\Users\\Ethan\\AppData\\Local\\Temp\\ipykernel_10760\\3380260959.py:23: FutureWarning: The default value of numeric_only in DataFrameGroupBy.sum is deprecated. In a future version, numeric_only will default to False. Either specify numeric_only or select only columns which should be valid for the function.\n",
      "  df_trade_pop = df_trade.groupby('dist_id').sum()[['POP100']].reset_index()\n"
     ]
    },
    {
     "name": "stdout",
     "output_type": "stream",
     "text": [
      "463614\n"
     ]
    },
    {
     "name": "stderr",
     "output_type": "stream",
     "text": [
      "C:\\Users\\Ethan\\AppData\\Local\\Temp\\ipykernel_10760\\3380260959.py:23: FutureWarning: The default value of numeric_only in DataFrameGroupBy.sum is deprecated. In a future version, numeric_only will default to False. Either specify numeric_only or select only columns which should be valid for the function.\n",
      "  df_trade_pop = df_trade.groupby('dist_id').sum()[['POP100']].reset_index()\n"
     ]
    },
    {
     "name": "stdout",
     "output_type": "stream",
     "text": [
      "487862\n",
      "Reclaiming orphan precinct 13321000003...\n"
     ]
    },
    {
     "name": "stderr",
     "output_type": "stream",
     "text": [
      "C:\\Users\\Ethan\\AppData\\Local\\Temp\\ipykernel_10760\\3380260959.py:23: FutureWarning: The default value of numeric_only in DataFrameGroupBy.sum is deprecated. In a future version, numeric_only will default to False. Either specify numeric_only or select only columns which should be valid for the function.\n",
      "  df_trade_pop = df_trade.groupby('dist_id').sum()[['POP100']].reset_index()\n"
     ]
    },
    {
     "name": "stdout",
     "output_type": "stream",
     "text": [
      "453068\n"
     ]
    },
    {
     "name": "stderr",
     "output_type": "stream",
     "text": [
      "C:\\Users\\Ethan\\AppData\\Local\\Temp\\ipykernel_10760\\3380260959.py:23: FutureWarning: The default value of numeric_only in DataFrameGroupBy.sum is deprecated. In a future version, numeric_only will default to False. Either specify numeric_only or select only columns which should be valid for the function.\n",
      "  df_trade_pop = df_trade.groupby('dist_id').sum()[['POP100']].reset_index()\n"
     ]
    },
    {
     "name": "stdout",
     "output_type": "stream",
     "text": [
      "446575\n",
      "Reclaiming orphan precinct 13137000004...\n"
     ]
    },
    {
     "name": "stderr",
     "output_type": "stream",
     "text": [
      "C:\\Users\\Ethan\\AppData\\Local\\Temp\\ipykernel_10760\\3380260959.py:23: FutureWarning: The default value of numeric_only in DataFrameGroupBy.sum is deprecated. In a future version, numeric_only will default to False. Either specify numeric_only or select only columns which should be valid for the function.\n",
      "  df_trade_pop = df_trade.groupby('dist_id').sum()[['POP100']].reset_index()\n"
     ]
    },
    {
     "name": "stdout",
     "output_type": "stream",
     "text": [
      "443984\n",
      "Reclaiming orphan precinct 1305900005C...\n"
     ]
    },
    {
     "name": "stderr",
     "output_type": "stream",
     "text": [
      "C:\\Users\\Ethan\\AppData\\Local\\Temp\\ipykernel_10760\\3380260959.py:23: FutureWarning: The default value of numeric_only in DataFrameGroupBy.sum is deprecated. In a future version, numeric_only will default to False. Either specify numeric_only or select only columns which should be valid for the function.\n",
      "  df_trade_pop = df_trade.groupby('dist_id').sum()[['POP100']].reset_index()\n"
     ]
    },
    {
     "name": "stdout",
     "output_type": "stream",
     "text": [
      "418176\n"
     ]
    },
    {
     "name": "stderr",
     "output_type": "stream",
     "text": [
      "C:\\Users\\Ethan\\AppData\\Local\\Temp\\ipykernel_10760\\3380260959.py:23: FutureWarning: The default value of numeric_only in DataFrameGroupBy.sum is deprecated. In a future version, numeric_only will default to False. Either specify numeric_only or select only columns which should be valid for the function.\n",
      "  df_trade_pop = df_trade.groupby('dist_id').sum()[['POP100']].reset_index()\n"
     ]
    },
    {
     "name": "stdout",
     "output_type": "stream",
     "text": [
      "411057\n",
      "Reclaiming orphan precinct 13285000009...\n"
     ]
    },
    {
     "name": "stderr",
     "output_type": "stream",
     "text": [
      "C:\\Users\\Ethan\\AppData\\Local\\Temp\\ipykernel_10760\\3380260959.py:23: FutureWarning: The default value of numeric_only in DataFrameGroupBy.sum is deprecated. In a future version, numeric_only will default to False. Either specify numeric_only or select only columns which should be valid for the function.\n",
      "  df_trade_pop = df_trade.groupby('dist_id').sum()[['POP100']].reset_index()\n"
     ]
    },
    {
     "name": "stdout",
     "output_type": "stream",
     "text": [
      "408743\n",
      "Reclaiming orphan precinct 13209000002...\n"
     ]
    },
    {
     "name": "stderr",
     "output_type": "stream",
     "text": [
      "C:\\Users\\Ethan\\AppData\\Local\\Temp\\ipykernel_10760\\3380260959.py:23: FutureWarning: The default value of numeric_only in DataFrameGroupBy.sum is deprecated. In a future version, numeric_only will default to False. Either specify numeric_only or select only columns which should be valid for the function.\n",
      "  df_trade_pop = df_trade.groupby('dist_id').sum()[['POP100']].reset_index()\n"
     ]
    },
    {
     "name": "stdout",
     "output_type": "stream",
     "text": [
      "444124\n",
      "Reclaiming orphan precinct 13095000027...\n",
      "Reclaiming orphan precinct 13207000003...\n"
     ]
    },
    {
     "name": "stderr",
     "output_type": "stream",
     "text": [
      "C:\\Users\\Ethan\\AppData\\Local\\Temp\\ipykernel_10760\\3380260959.py:23: FutureWarning: The default value of numeric_only in DataFrameGroupBy.sum is deprecated. In a future version, numeric_only will default to False. Either specify numeric_only or select only columns which should be valid for the function.\n",
      "  df_trade_pop = df_trade.groupby('dist_id').sum()[['POP100']].reset_index()\n"
     ]
    },
    {
     "name": "stdout",
     "output_type": "stream",
     "text": [
      "447789\n"
     ]
    },
    {
     "name": "stderr",
     "output_type": "stream",
     "text": [
      "C:\\Users\\Ethan\\AppData\\Local\\Temp\\ipykernel_10760\\3380260959.py:23: FutureWarning: The default value of numeric_only in DataFrameGroupBy.sum is deprecated. In a future version, numeric_only will default to False. Either specify numeric_only or select only columns which should be valid for the function.\n",
      "  df_trade_pop = df_trade.groupby('dist_id').sum()[['POP100']].reset_index()\n"
     ]
    },
    {
     "name": "stdout",
     "output_type": "stream",
     "text": [
      "404799\n",
      "Reclaiming orphan precinct 1310300004C...\n"
     ]
    },
    {
     "name": "stderr",
     "output_type": "stream",
     "text": [
      "C:\\Users\\Ethan\\AppData\\Local\\Temp\\ipykernel_10760\\3380260959.py:23: FutureWarning: The default value of numeric_only in DataFrameGroupBy.sum is deprecated. In a future version, numeric_only will default to False. Either specify numeric_only or select only columns which should be valid for the function.\n",
      "  df_trade_pop = df_trade.groupby('dist_id').sum()[['POP100']].reset_index()\n"
     ]
    },
    {
     "name": "stdout",
     "output_type": "stream",
     "text": [
      "442986\n",
      "Reclaiming orphan precinct 13161000402...\n",
      "Reclaiming orphan precinct 13277000005...\n"
     ]
    },
    {
     "name": "stderr",
     "output_type": "stream",
     "text": [
      "C:\\Users\\Ethan\\AppData\\Local\\Temp\\ipykernel_10760\\3380260959.py:23: FutureWarning: The default value of numeric_only in DataFrameGroupBy.sum is deprecated. In a future version, numeric_only will default to False. Either specify numeric_only or select only columns which should be valid for the function.\n",
      "  df_trade_pop = df_trade.groupby('dist_id').sum()[['POP100']].reset_index()\n"
     ]
    },
    {
     "name": "stdout",
     "output_type": "stream",
     "text": [
      "441950\n"
     ]
    },
    {
     "name": "stderr",
     "output_type": "stream",
     "text": [
      "C:\\Users\\Ethan\\AppData\\Local\\Temp\\ipykernel_10760\\3380260959.py:23: FutureWarning: The default value of numeric_only in DataFrameGroupBy.sum is deprecated. In a future version, numeric_only will default to False. Either specify numeric_only or select only columns which should be valid for the function.\n",
      "  df_trade_pop = df_trade.groupby('dist_id').sum()[['POP100']].reset_index()\n"
     ]
    },
    {
     "name": "stdout",
     "output_type": "stream",
     "text": [
      "433285\n"
     ]
    },
    {
     "name": "stderr",
     "output_type": "stream",
     "text": [
      "C:\\Users\\Ethan\\AppData\\Local\\Temp\\ipykernel_10760\\3380260959.py:23: FutureWarning: The default value of numeric_only in DataFrameGroupBy.sum is deprecated. In a future version, numeric_only will default to False. Either specify numeric_only or select only columns which should be valid for the function.\n",
      "  df_trade_pop = df_trade.groupby('dist_id').sum()[['POP100']].reset_index()\n"
     ]
    },
    {
     "name": "stdout",
     "output_type": "stream",
     "text": [
      "412503\n",
      "Reclaiming orphan precinct 13037000005...\n",
      "Reclaiming orphan precinct 13095000026...\n",
      "Reclaiming orphan precinct 13243000954...\n",
      "Reclaiming orphan precinct 1324300718B...\n",
      "Reclaiming orphan precinct 13293000561...\n"
     ]
    },
    {
     "name": "stderr",
     "output_type": "stream",
     "text": [
      "C:\\Users\\Ethan\\AppData\\Local\\Temp\\ipykernel_10760\\3380260959.py:23: FutureWarning: The default value of numeric_only in DataFrameGroupBy.sum is deprecated. In a future version, numeric_only will default to False. Either specify numeric_only or select only columns which should be valid for the function.\n",
      "  df_trade_pop = df_trade.groupby('dist_id').sum()[['POP100']].reset_index()\n"
     ]
    },
    {
     "name": "stdout",
     "output_type": "stream",
     "text": [
      "400909\n",
      "Reclaiming orphan precinct 13219000005...\n"
     ]
    },
    {
     "name": "stderr",
     "output_type": "stream",
     "text": [
      "C:\\Users\\Ethan\\AppData\\Local\\Temp\\ipykernel_10760\\3380260959.py:23: FutureWarning: The default value of numeric_only in DataFrameGroupBy.sum is deprecated. In a future version, numeric_only will default to False. Either specify numeric_only or select only columns which should be valid for the function.\n",
      "  df_trade_pop = df_trade.groupby('dist_id').sum()[['POP100']].reset_index()\n"
     ]
    },
    {
     "name": "stdout",
     "output_type": "stream",
     "text": [
      "395962\n",
      "Reclaiming orphan precinct 13077000015...\n"
     ]
    },
    {
     "name": "stderr",
     "output_type": "stream",
     "text": [
      "C:\\Users\\Ethan\\AppData\\Local\\Temp\\ipykernel_10760\\3380260959.py:23: FutureWarning: The default value of numeric_only in DataFrameGroupBy.sum is deprecated. In a future version, numeric_only will default to False. Either specify numeric_only or select only columns which should be valid for the function.\n",
      "  df_trade_pop = df_trade.groupby('dist_id').sum()[['POP100']].reset_index()\n"
     ]
    },
    {
     "name": "stdout",
     "output_type": "stream",
     "text": [
      "437400\n",
      "Reclaiming orphan precinct 13151000042...\n"
     ]
    },
    {
     "name": "stderr",
     "output_type": "stream",
     "text": [
      "C:\\Users\\Ethan\\AppData\\Local\\Temp\\ipykernel_10760\\3380260959.py:23: FutureWarning: The default value of numeric_only in DataFrameGroupBy.sum is deprecated. In a future version, numeric_only will default to False. Either specify numeric_only or select only columns which should be valid for the function.\n",
      "  df_trade_pop = df_trade.groupby('dist_id').sum()[['POP100']].reset_index()\n"
     ]
    },
    {
     "name": "stdout",
     "output_type": "stream",
     "text": [
      "393561\n",
      "Reclaiming orphan precinct 13255000014...\n"
     ]
    },
    {
     "name": "stderr",
     "output_type": "stream",
     "text": [
      "C:\\Users\\Ethan\\AppData\\Local\\Temp\\ipykernel_10760\\3380260959.py:23: FutureWarning: The default value of numeric_only in DataFrameGroupBy.sum is deprecated. In a future version, numeric_only will default to False. Either specify numeric_only or select only columns which should be valid for the function.\n",
      "  df_trade_pop = df_trade.groupby('dist_id').sum()[['POP100']].reset_index()\n"
     ]
    },
    {
     "name": "stdout",
     "output_type": "stream",
     "text": [
      "383092\n"
     ]
    },
    {
     "name": "stderr",
     "output_type": "stream",
     "text": [
      "C:\\Users\\Ethan\\AppData\\Local\\Temp\\ipykernel_10760\\3380260959.py:23: FutureWarning: The default value of numeric_only in DataFrameGroupBy.sum is deprecated. In a future version, numeric_only will default to False. Either specify numeric_only or select only columns which should be valid for the function.\n",
      "  df_trade_pop = df_trade.groupby('dist_id').sum()[['POP100']].reset_index()\n"
     ]
    },
    {
     "name": "stdout",
     "output_type": "stream",
     "text": [
      "368118\n"
     ]
    },
    {
     "name": "stderr",
     "output_type": "stream",
     "text": [
      "C:\\Users\\Ethan\\AppData\\Local\\Temp\\ipykernel_10760\\3380260959.py:23: FutureWarning: The default value of numeric_only in DataFrameGroupBy.sum is deprecated. In a future version, numeric_only will default to False. Either specify numeric_only or select only columns which should be valid for the function.\n",
      "  df_trade_pop = df_trade.groupby('dist_id').sum()[['POP100']].reset_index()\n"
     ]
    },
    {
     "name": "stdout",
     "output_type": "stream",
     "text": [
      "367902\n"
     ]
    },
    {
     "name": "stderr",
     "output_type": "stream",
     "text": [
      "C:\\Users\\Ethan\\AppData\\Local\\Temp\\ipykernel_10760\\3380260959.py:23: FutureWarning: The default value of numeric_only in DataFrameGroupBy.sum is deprecated. In a future version, numeric_only will default to False. Either specify numeric_only or select only columns which should be valid for the function.\n",
      "  df_trade_pop = df_trade.groupby('dist_id').sum()[['POP100']].reset_index()\n"
     ]
    },
    {
     "name": "stdout",
     "output_type": "stream",
     "text": [
      "366963\n",
      "Reclaiming orphan precinct 13219000009...\n"
     ]
    },
    {
     "name": "stderr",
     "output_type": "stream",
     "text": [
      "C:\\Users\\Ethan\\AppData\\Local\\Temp\\ipykernel_10760\\3380260959.py:23: FutureWarning: The default value of numeric_only in DataFrameGroupBy.sum is deprecated. In a future version, numeric_only will default to False. Either specify numeric_only or select only columns which should be valid for the function.\n",
      "  df_trade_pop = df_trade.groupby('dist_id').sum()[['POP100']].reset_index()\n"
     ]
    },
    {
     "name": "stdout",
     "output_type": "stream",
     "text": [
      "411391\n"
     ]
    },
    {
     "name": "stderr",
     "output_type": "stream",
     "text": [
      "C:\\Users\\Ethan\\AppData\\Local\\Temp\\ipykernel_10760\\3380260959.py:23: FutureWarning: The default value of numeric_only in DataFrameGroupBy.sum is deprecated. In a future version, numeric_only will default to False. Either specify numeric_only or select only columns which should be valid for the function.\n",
      "  df_trade_pop = df_trade.groupby('dist_id').sum()[['POP100']].reset_index()\n"
     ]
    },
    {
     "name": "stdout",
     "output_type": "stream",
     "text": [
      "298353\n"
     ]
    },
    {
     "name": "stderr",
     "output_type": "stream",
     "text": [
      "C:\\Users\\Ethan\\AppData\\Local\\Temp\\ipykernel_10760\\3380260959.py:23: FutureWarning: The default value of numeric_only in DataFrameGroupBy.sum is deprecated. In a future version, numeric_only will default to False. Either specify numeric_only or select only columns which should be valid for the function.\n",
      "  df_trade_pop = df_trade.groupby('dist_id').sum()[['POP100']].reset_index()\n"
     ]
    },
    {
     "name": "stdout",
     "output_type": "stream",
     "text": [
      "296601\n",
      "Reclaiming orphan precinct 13137000005...\n",
      "Reclaiming orphan precinct 13281000990...\n"
     ]
    },
    {
     "name": "stderr",
     "output_type": "stream",
     "text": [
      "C:\\Users\\Ethan\\AppData\\Local\\Temp\\ipykernel_10760\\3380260959.py:23: FutureWarning: The default value of numeric_only in DataFrameGroupBy.sum is deprecated. In a future version, numeric_only will default to False. Either specify numeric_only or select only columns which should be valid for the function.\n",
      "  df_trade_pop = df_trade.groupby('dist_id').sum()[['POP100']].reset_index()\n"
     ]
    },
    {
     "name": "stdout",
     "output_type": "stream",
     "text": [
      "282689\n"
     ]
    },
    {
     "name": "stderr",
     "output_type": "stream",
     "text": [
      "C:\\Users\\Ethan\\AppData\\Local\\Temp\\ipykernel_10760\\3380260959.py:23: FutureWarning: The default value of numeric_only in DataFrameGroupBy.sum is deprecated. In a future version, numeric_only will default to False. Either specify numeric_only or select only columns which should be valid for the function.\n",
      "  df_trade_pop = df_trade.groupby('dist_id').sum()[['POP100']].reset_index()\n"
     ]
    },
    {
     "name": "stdout",
     "output_type": "stream",
     "text": [
      "279583\n",
      "Reclaiming orphan precinct 132050000HF...\n"
     ]
    },
    {
     "name": "stderr",
     "output_type": "stream",
     "text": [
      "C:\\Users\\Ethan\\AppData\\Local\\Temp\\ipykernel_10760\\3380260959.py:23: FutureWarning: The default value of numeric_only in DataFrameGroupBy.sum is deprecated. In a future version, numeric_only will default to False. Either specify numeric_only or select only columns which should be valid for the function.\n",
      "  df_trade_pop = df_trade.groupby('dist_id').sum()[['POP100']].reset_index()\n"
     ]
    },
    {
     "name": "stdout",
     "output_type": "stream",
     "text": [
      "279032\n",
      "Reclaiming orphan precinct 13077000025...\n",
      "Reclaiming orphan precinct 13255000014...\n"
     ]
    },
    {
     "name": "stderr",
     "output_type": "stream",
     "text": [
      "C:\\Users\\Ethan\\AppData\\Local\\Temp\\ipykernel_10760\\3380260959.py:23: FutureWarning: The default value of numeric_only in DataFrameGroupBy.sum is deprecated. In a future version, numeric_only will default to False. Either specify numeric_only or select only columns which should be valid for the function.\n",
      "  df_trade_pop = df_trade.groupby('dist_id').sum()[['POP100']].reset_index()\n"
     ]
    },
    {
     "name": "stdout",
     "output_type": "stream",
     "text": [
      "415839\n"
     ]
    },
    {
     "name": "stderr",
     "output_type": "stream",
     "text": [
      "C:\\Users\\Ethan\\AppData\\Local\\Temp\\ipykernel_10760\\3380260959.py:23: FutureWarning: The default value of numeric_only in DataFrameGroupBy.sum is deprecated. In a future version, numeric_only will default to False. Either specify numeric_only or select only columns which should be valid for the function.\n",
      "  df_trade_pop = df_trade.groupby('dist_id').sum()[['POP100']].reset_index()\n"
     ]
    },
    {
     "name": "stdout",
     "output_type": "stream",
     "text": [
      "384333\n"
     ]
    },
    {
     "name": "stderr",
     "output_type": "stream",
     "text": [
      "C:\\Users\\Ethan\\AppData\\Local\\Temp\\ipykernel_10760\\3380260959.py:23: FutureWarning: The default value of numeric_only in DataFrameGroupBy.sum is deprecated. In a future version, numeric_only will default to False. Either specify numeric_only or select only columns which should be valid for the function.\n",
      "  df_trade_pop = df_trade.groupby('dist_id').sum()[['POP100']].reset_index()\n"
     ]
    },
    {
     "name": "stdout",
     "output_type": "stream",
     "text": [
      "367323\n"
     ]
    },
    {
     "name": "stderr",
     "output_type": "stream",
     "text": [
      "C:\\Users\\Ethan\\AppData\\Local\\Temp\\ipykernel_10760\\3380260959.py:23: FutureWarning: The default value of numeric_only in DataFrameGroupBy.sum is deprecated. In a future version, numeric_only will default to False. Either specify numeric_only or select only columns which should be valid for the function.\n",
      "  df_trade_pop = df_trade.groupby('dist_id').sum()[['POP100']].reset_index()\n"
     ]
    },
    {
     "name": "stdout",
     "output_type": "stream",
     "text": [
      "324465\n",
      "Reclaiming orphan precinct 13217000006...\n"
     ]
    },
    {
     "name": "stderr",
     "output_type": "stream",
     "text": [
      "C:\\Users\\Ethan\\AppData\\Local\\Temp\\ipykernel_10760\\3380260959.py:23: FutureWarning: The default value of numeric_only in DataFrameGroupBy.sum is deprecated. In a future version, numeric_only will default to False. Either specify numeric_only or select only columns which should be valid for the function.\n",
      "  df_trade_pop = df_trade.groupby('dist_id').sum()[['POP100']].reset_index()\n"
     ]
    },
    {
     "name": "stdout",
     "output_type": "stream",
     "text": [
      "274436\n",
      "Reclaiming orphan precinct 13217000006...\n"
     ]
    },
    {
     "name": "stderr",
     "output_type": "stream",
     "text": [
      "C:\\Users\\Ethan\\AppData\\Local\\Temp\\ipykernel_10760\\3380260959.py:23: FutureWarning: The default value of numeric_only in DataFrameGroupBy.sum is deprecated. In a future version, numeric_only will default to False. Either specify numeric_only or select only columns which should be valid for the function.\n",
      "  df_trade_pop = df_trade.groupby('dist_id').sum()[['POP100']].reset_index()\n"
     ]
    },
    {
     "name": "stdout",
     "output_type": "stream",
     "text": [
      "358413\n",
      "Reclaiming orphan precinct 13135000151...\n"
     ]
    },
    {
     "name": "stderr",
     "output_type": "stream",
     "text": [
      "C:\\Users\\Ethan\\AppData\\Local\\Temp\\ipykernel_10760\\3380260959.py:23: FutureWarning: The default value of numeric_only in DataFrameGroupBy.sum is deprecated. In a future version, numeric_only will default to False. Either specify numeric_only or select only columns which should be valid for the function.\n",
      "  df_trade_pop = df_trade.groupby('dist_id').sum()[['POP100']].reset_index()\n"
     ]
    },
    {
     "name": "stdout",
     "output_type": "stream",
     "text": [
      "349383\n"
     ]
    },
    {
     "name": "stderr",
     "output_type": "stream",
     "text": [
      "C:\\Users\\Ethan\\AppData\\Local\\Temp\\ipykernel_10760\\3380260959.py:23: FutureWarning: The default value of numeric_only in DataFrameGroupBy.sum is deprecated. In a future version, numeric_only will default to False. Either specify numeric_only or select only columns which should be valid for the function.\n",
      "  df_trade_pop = df_trade.groupby('dist_id').sum()[['POP100']].reset_index()\n"
     ]
    },
    {
     "name": "stdout",
     "output_type": "stream",
     "text": [
      "271830\n"
     ]
    },
    {
     "name": "stderr",
     "output_type": "stream",
     "text": [
      "C:\\Users\\Ethan\\AppData\\Local\\Temp\\ipykernel_10760\\3380260959.py:23: FutureWarning: The default value of numeric_only in DataFrameGroupBy.sum is deprecated. In a future version, numeric_only will default to False. Either specify numeric_only or select only columns which should be valid for the function.\n",
      "  df_trade_pop = df_trade.groupby('dist_id').sum()[['POP100']].reset_index()\n"
     ]
    },
    {
     "name": "stdout",
     "output_type": "stream",
     "text": [
      "269691\n"
     ]
    },
    {
     "name": "stderr",
     "output_type": "stream",
     "text": [
      "C:\\Users\\Ethan\\AppData\\Local\\Temp\\ipykernel_10760\\3380260959.py:23: FutureWarning: The default value of numeric_only in DataFrameGroupBy.sum is deprecated. In a future version, numeric_only will default to False. Either specify numeric_only or select only columns which should be valid for the function.\n",
      "  df_trade_pop = df_trade.groupby('dist_id').sum()[['POP100']].reset_index()\n"
     ]
    },
    {
     "name": "stdout",
     "output_type": "stream",
     "text": [
      "269140\n"
     ]
    },
    {
     "name": "stderr",
     "output_type": "stream",
     "text": [
      "C:\\Users\\Ethan\\AppData\\Local\\Temp\\ipykernel_10760\\3380260959.py:23: FutureWarning: The default value of numeric_only in DataFrameGroupBy.sum is deprecated. In a future version, numeric_only will default to False. Either specify numeric_only or select only columns which should be valid for the function.\n",
      "  df_trade_pop = df_trade.groupby('dist_id').sum()[['POP100']].reset_index()\n"
     ]
    },
    {
     "name": "stdout",
     "output_type": "stream",
     "text": [
      "266326\n"
     ]
    },
    {
     "name": "stderr",
     "output_type": "stream",
     "text": [
      "C:\\Users\\Ethan\\AppData\\Local\\Temp\\ipykernel_10760\\3380260959.py:23: FutureWarning: The default value of numeric_only in DataFrameGroupBy.sum is deprecated. In a future version, numeric_only will default to False. Either specify numeric_only or select only columns which should be valid for the function.\n",
      "  df_trade_pop = df_trade.groupby('dist_id').sum()[['POP100']].reset_index()\n"
     ]
    },
    {
     "name": "stdout",
     "output_type": "stream",
     "text": [
      "262676\n"
     ]
    },
    {
     "name": "stderr",
     "output_type": "stream",
     "text": [
      "C:\\Users\\Ethan\\AppData\\Local\\Temp\\ipykernel_10760\\3380260959.py:23: FutureWarning: The default value of numeric_only in DataFrameGroupBy.sum is deprecated. In a future version, numeric_only will default to False. Either specify numeric_only or select only columns which should be valid for the function.\n",
      "  df_trade_pop = df_trade.groupby('dist_id').sum()[['POP100']].reset_index()\n"
     ]
    },
    {
     "name": "stdout",
     "output_type": "stream",
     "text": [
      "300283\n"
     ]
    },
    {
     "name": "stderr",
     "output_type": "stream",
     "text": [
      "C:\\Users\\Ethan\\AppData\\Local\\Temp\\ipykernel_10760\\3380260959.py:23: FutureWarning: The default value of numeric_only in DataFrameGroupBy.sum is deprecated. In a future version, numeric_only will default to False. Either specify numeric_only or select only columns which should be valid for the function.\n",
      "  df_trade_pop = df_trade.groupby('dist_id').sum()[['POP100']].reset_index()\n"
     ]
    },
    {
     "name": "stdout",
     "output_type": "stream",
     "text": [
      "275745\n"
     ]
    },
    {
     "name": "stderr",
     "output_type": "stream",
     "text": [
      "C:\\Users\\Ethan\\AppData\\Local\\Temp\\ipykernel_10760\\3380260959.py:23: FutureWarning: The default value of numeric_only in DataFrameGroupBy.sum is deprecated. In a future version, numeric_only will default to False. Either specify numeric_only or select only columns which should be valid for the function.\n",
      "  df_trade_pop = df_trade.groupby('dist_id').sum()[['POP100']].reset_index()\n"
     ]
    },
    {
     "name": "stdout",
     "output_type": "stream",
     "text": [
      "334699\n"
     ]
    },
    {
     "name": "stderr",
     "output_type": "stream",
     "text": [
      "C:\\Users\\Ethan\\AppData\\Local\\Temp\\ipykernel_10760\\3380260959.py:23: FutureWarning: The default value of numeric_only in DataFrameGroupBy.sum is deprecated. In a future version, numeric_only will default to False. Either specify numeric_only or select only columns which should be valid for the function.\n",
      "  df_trade_pop = df_trade.groupby('dist_id').sum()[['POP100']].reset_index()\n"
     ]
    },
    {
     "name": "stdout",
     "output_type": "stream",
     "text": [
      "285410\n",
      "Reclaiming orphan precinct 13123000013...\n",
      "Reclaiming orphan precinct 13227000011...\n"
     ]
    },
    {
     "name": "stderr",
     "output_type": "stream",
     "text": [
      "C:\\Users\\Ethan\\AppData\\Local\\Temp\\ipykernel_10760\\3380260959.py:23: FutureWarning: The default value of numeric_only in DataFrameGroupBy.sum is deprecated. In a future version, numeric_only will default to False. Either specify numeric_only or select only columns which should be valid for the function.\n",
      "  df_trade_pop = df_trade.groupby('dist_id').sum()[['POP100']].reset_index()\n"
     ]
    },
    {
     "name": "stdout",
     "output_type": "stream",
     "text": [
      "267740\n"
     ]
    },
    {
     "name": "stderr",
     "output_type": "stream",
     "text": [
      "C:\\Users\\Ethan\\AppData\\Local\\Temp\\ipykernel_10760\\3380260959.py:23: FutureWarning: The default value of numeric_only in DataFrameGroupBy.sum is deprecated. In a future version, numeric_only will default to False. Either specify numeric_only or select only columns which should be valid for the function.\n",
      "  df_trade_pop = df_trade.groupby('dist_id').sum()[['POP100']].reset_index()\n"
     ]
    },
    {
     "name": "stdout",
     "output_type": "stream",
     "text": [
      "285483\n"
     ]
    },
    {
     "name": "stderr",
     "output_type": "stream",
     "text": [
      "C:\\Users\\Ethan\\AppData\\Local\\Temp\\ipykernel_10760\\3380260959.py:23: FutureWarning: The default value of numeric_only in DataFrameGroupBy.sum is deprecated. In a future version, numeric_only will default to False. Either specify numeric_only or select only columns which should be valid for the function.\n",
      "  df_trade_pop = df_trade.groupby('dist_id').sum()[['POP100']].reset_index()\n"
     ]
    },
    {
     "name": "stdout",
     "output_type": "stream",
     "text": [
      "279101\n"
     ]
    },
    {
     "name": "stderr",
     "output_type": "stream",
     "text": [
      "C:\\Users\\Ethan\\AppData\\Local\\Temp\\ipykernel_10760\\3380260959.py:23: FutureWarning: The default value of numeric_only in DataFrameGroupBy.sum is deprecated. In a future version, numeric_only will default to False. Either specify numeric_only or select only columns which should be valid for the function.\n",
      "  df_trade_pop = df_trade.groupby('dist_id').sum()[['POP100']].reset_index()\n"
     ]
    },
    {
     "name": "stdout",
     "output_type": "stream",
     "text": [
      "272569\n",
      "Reclaiming orphan precinct 13057000009...\n"
     ]
    },
    {
     "name": "stderr",
     "output_type": "stream",
     "text": [
      "C:\\Users\\Ethan\\AppData\\Local\\Temp\\ipykernel_10760\\3380260959.py:23: FutureWarning: The default value of numeric_only in DataFrameGroupBy.sum is deprecated. In a future version, numeric_only will default to False. Either specify numeric_only or select only columns which should be valid for the function.\n",
      "  df_trade_pop = df_trade.groupby('dist_id').sum()[['POP100']].reset_index()\n"
     ]
    },
    {
     "name": "stdout",
     "output_type": "stream",
     "text": [
      "288741\n"
     ]
    },
    {
     "name": "stderr",
     "output_type": "stream",
     "text": [
      "C:\\Users\\Ethan\\AppData\\Local\\Temp\\ipykernel_10760\\3380260959.py:23: FutureWarning: The default value of numeric_only in DataFrameGroupBy.sum is deprecated. In a future version, numeric_only will default to False. Either specify numeric_only or select only columns which should be valid for the function.\n",
      "  df_trade_pop = df_trade.groupby('dist_id').sum()[['POP100']].reset_index()\n"
     ]
    },
    {
     "name": "stdout",
     "output_type": "stream",
     "text": [
      "259961\n",
      "Reclaiming orphan precinct 13157003000...\n"
     ]
    },
    {
     "name": "stderr",
     "output_type": "stream",
     "text": [
      "C:\\Users\\Ethan\\AppData\\Local\\Temp\\ipykernel_10760\\3380260959.py:23: FutureWarning: The default value of numeric_only in DataFrameGroupBy.sum is deprecated. In a future version, numeric_only will default to False. Either specify numeric_only or select only columns which should be valid for the function.\n",
      "  df_trade_pop = df_trade.groupby('dist_id').sum()[['POP100']].reset_index()\n"
     ]
    },
    {
     "name": "stdout",
     "output_type": "stream",
     "text": [
      "319389\n",
      "Reclaiming orphan precinct 13139000026...\n"
     ]
    },
    {
     "name": "stderr",
     "output_type": "stream",
     "text": [
      "C:\\Users\\Ethan\\AppData\\Local\\Temp\\ipykernel_10760\\3380260959.py:23: FutureWarning: The default value of numeric_only in DataFrameGroupBy.sum is deprecated. In a future version, numeric_only will default to False. Either specify numeric_only or select only columns which should be valid for the function.\n",
      "  df_trade_pop = df_trade.groupby('dist_id').sum()[['POP100']].reset_index()\n"
     ]
    },
    {
     "name": "stdout",
     "output_type": "stream",
     "text": [
      "314593\n"
     ]
    },
    {
     "name": "stderr",
     "output_type": "stream",
     "text": [
      "C:\\Users\\Ethan\\AppData\\Local\\Temp\\ipykernel_10760\\3380260959.py:23: FutureWarning: The default value of numeric_only in DataFrameGroupBy.sum is deprecated. In a future version, numeric_only will default to False. Either specify numeric_only or select only columns which should be valid for the function.\n",
      "  df_trade_pop = df_trade.groupby('dist_id').sum()[['POP100']].reset_index()\n"
     ]
    },
    {
     "name": "stdout",
     "output_type": "stream",
     "text": [
      "288741\n"
     ]
    },
    {
     "name": "stderr",
     "output_type": "stream",
     "text": [
      "C:\\Users\\Ethan\\AppData\\Local\\Temp\\ipykernel_10760\\3380260959.py:23: FutureWarning: The default value of numeric_only in DataFrameGroupBy.sum is deprecated. In a future version, numeric_only will default to False. Either specify numeric_only or select only columns which should be valid for the function.\n",
      "  df_trade_pop = df_trade.groupby('dist_id').sum()[['POP100']].reset_index()\n"
     ]
    },
    {
     "name": "stdout",
     "output_type": "stream",
     "text": [
      "314593\n"
     ]
    },
    {
     "name": "stderr",
     "output_type": "stream",
     "text": [
      "C:\\Users\\Ethan\\AppData\\Local\\Temp\\ipykernel_10760\\3380260959.py:23: FutureWarning: The default value of numeric_only in DataFrameGroupBy.sum is deprecated. In a future version, numeric_only will default to False. Either specify numeric_only or select only columns which should be valid for the function.\n",
      "  df_trade_pop = df_trade.groupby('dist_id').sum()[['POP100']].reset_index()\n"
     ]
    },
    {
     "name": "stdout",
     "output_type": "stream",
     "text": [
      "288741\n",
      "Switching to single-precinct approach.\n"
     ]
    },
    {
     "name": "stderr",
     "output_type": "stream",
     "text": [
      "C:\\Users\\Ethan\\AppData\\Local\\Temp\\ipykernel_10760\\633365314.py:18: FutureWarning: The default value of numeric_only in DataFrameGroupBy.sum is deprecated. In a future version, numeric_only will default to False. Either specify numeric_only or select only columns which should be valid for the function.\n",
      "  df_trade_pop = df_trade.groupby('dist_id').sum()[['POP100']].reset_index()\n",
      "C:\\Users\\Ethan\\AppData\\Local\\Temp\\ipykernel_10760\\633365314.py:25: FutureWarning: The default value of numeric_only in DataFrameGroupBy.sum is deprecated. In a future version, numeric_only will default to False. Either specify numeric_only or select only columns which should be valid for the function.\n",
      "  df_trade_pop = df_trade.groupby('dist_id').sum()[['POP100']].reset_index()\n"
     ]
    },
    {
     "name": "stdout",
     "output_type": "stream",
     "text": [
      "314593\n"
     ]
    },
    {
     "name": "stderr",
     "output_type": "stream",
     "text": [
      "C:\\Users\\Ethan\\AppData\\Local\\Temp\\ipykernel_10760\\633365314.py:25: FutureWarning: The default value of numeric_only in DataFrameGroupBy.sum is deprecated. In a future version, numeric_only will default to False. Either specify numeric_only or select only columns which should be valid for the function.\n",
      "  df_trade_pop = df_trade.groupby('dist_id').sum()[['POP100']].reset_index()\n"
     ]
    },
    {
     "name": "stdout",
     "output_type": "stream",
     "text": [
      "307609\n"
     ]
    },
    {
     "name": "stderr",
     "output_type": "stream",
     "text": [
      "C:\\Users\\Ethan\\AppData\\Local\\Temp\\ipykernel_10760\\633365314.py:25: FutureWarning: The default value of numeric_only in DataFrameGroupBy.sum is deprecated. In a future version, numeric_only will default to False. Either specify numeric_only or select only columns which should be valid for the function.\n",
      "  df_trade_pop = df_trade.groupby('dist_id').sum()[['POP100']].reset_index()\n"
     ]
    },
    {
     "name": "stdout",
     "output_type": "stream",
     "text": [
      "299567\n"
     ]
    },
    {
     "name": "stderr",
     "output_type": "stream",
     "text": [
      "C:\\Users\\Ethan\\AppData\\Local\\Temp\\ipykernel_10760\\633365314.py:25: FutureWarning: The default value of numeric_only in DataFrameGroupBy.sum is deprecated. In a future version, numeric_only will default to False. Either specify numeric_only or select only columns which should be valid for the function.\n",
      "  df_trade_pop = df_trade.groupby('dist_id').sum()[['POP100']].reset_index()\n"
     ]
    },
    {
     "name": "stdout",
     "output_type": "stream",
     "text": [
      "294292\n"
     ]
    },
    {
     "name": "stderr",
     "output_type": "stream",
     "text": [
      "C:\\Users\\Ethan\\AppData\\Local\\Temp\\ipykernel_10760\\633365314.py:25: FutureWarning: The default value of numeric_only in DataFrameGroupBy.sum is deprecated. In a future version, numeric_only will default to False. Either specify numeric_only or select only columns which should be valid for the function.\n",
      "  df_trade_pop = df_trade.groupby('dist_id').sum()[['POP100']].reset_index()\n"
     ]
    },
    {
     "name": "stdout",
     "output_type": "stream",
     "text": [
      "288339\n"
     ]
    },
    {
     "name": "stderr",
     "output_type": "stream",
     "text": [
      "C:\\Users\\Ethan\\AppData\\Local\\Temp\\ipykernel_10760\\633365314.py:25: FutureWarning: The default value of numeric_only in DataFrameGroupBy.sum is deprecated. In a future version, numeric_only will default to False. Either specify numeric_only or select only columns which should be valid for the function.\n",
      "  df_trade_pop = df_trade.groupby('dist_id').sum()[['POP100']].reset_index()\n"
     ]
    },
    {
     "name": "stdout",
     "output_type": "stream",
     "text": [
      "279083\n"
     ]
    },
    {
     "name": "stderr",
     "output_type": "stream",
     "text": [
      "C:\\Users\\Ethan\\AppData\\Local\\Temp\\ipykernel_10760\\633365314.py:25: FutureWarning: The default value of numeric_only in DataFrameGroupBy.sum is deprecated. In a future version, numeric_only will default to False. Either specify numeric_only or select only columns which should be valid for the function.\n",
      "  df_trade_pop = df_trade.groupby('dist_id').sum()[['POP100']].reset_index()\n"
     ]
    },
    {
     "name": "stdout",
     "output_type": "stream",
     "text": [
      "271446\n"
     ]
    },
    {
     "name": "stderr",
     "output_type": "stream",
     "text": [
      "C:\\Users\\Ethan\\AppData\\Local\\Temp\\ipykernel_10760\\633365314.py:25: FutureWarning: The default value of numeric_only in DataFrameGroupBy.sum is deprecated. In a future version, numeric_only will default to False. Either specify numeric_only or select only columns which should be valid for the function.\n",
      "  df_trade_pop = df_trade.groupby('dist_id').sum()[['POP100']].reset_index()\n"
     ]
    },
    {
     "name": "stdout",
     "output_type": "stream",
     "text": [
      "268674\n"
     ]
    },
    {
     "name": "stderr",
     "output_type": "stream",
     "text": [
      "C:\\Users\\Ethan\\AppData\\Local\\Temp\\ipykernel_10760\\633365314.py:25: FutureWarning: The default value of numeric_only in DataFrameGroupBy.sum is deprecated. In a future version, numeric_only will default to False. Either specify numeric_only or select only columns which should be valid for the function.\n",
      "  df_trade_pop = df_trade.groupby('dist_id').sum()[['POP100']].reset_index()\n"
     ]
    },
    {
     "name": "stdout",
     "output_type": "stream",
     "text": [
      "260070\n"
     ]
    },
    {
     "name": "stderr",
     "output_type": "stream",
     "text": [
      "C:\\Users\\Ethan\\AppData\\Local\\Temp\\ipykernel_10760\\633365314.py:25: FutureWarning: The default value of numeric_only in DataFrameGroupBy.sum is deprecated. In a future version, numeric_only will default to False. Either specify numeric_only or select only columns which should be valid for the function.\n",
      "  df_trade_pop = df_trade.groupby('dist_id').sum()[['POP100']].reset_index()\n"
     ]
    },
    {
     "name": "stdout",
     "output_type": "stream",
     "text": [
      "257515\n"
     ]
    },
    {
     "name": "stderr",
     "output_type": "stream",
     "text": [
      "C:\\Users\\Ethan\\AppData\\Local\\Temp\\ipykernel_10760\\633365314.py:25: FutureWarning: The default value of numeric_only in DataFrameGroupBy.sum is deprecated. In a future version, numeric_only will default to False. Either specify numeric_only or select only columns which should be valid for the function.\n",
      "  df_trade_pop = df_trade.groupby('dist_id').sum()[['POP100']].reset_index()\n"
     ]
    },
    {
     "name": "stdout",
     "output_type": "stream",
     "text": [
      "252931\n"
     ]
    },
    {
     "name": "stderr",
     "output_type": "stream",
     "text": [
      "C:\\Users\\Ethan\\AppData\\Local\\Temp\\ipykernel_10760\\633365314.py:25: FutureWarning: The default value of numeric_only in DataFrameGroupBy.sum is deprecated. In a future version, numeric_only will default to False. Either specify numeric_only or select only columns which should be valid for the function.\n",
      "  df_trade_pop = df_trade.groupby('dist_id').sum()[['POP100']].reset_index()\n"
     ]
    },
    {
     "name": "stdout",
     "output_type": "stream",
     "text": [
      "252103\n"
     ]
    },
    {
     "name": "stderr",
     "output_type": "stream",
     "text": [
      "C:\\Users\\Ethan\\AppData\\Local\\Temp\\ipykernel_10760\\633365314.py:25: FutureWarning: The default value of numeric_only in DataFrameGroupBy.sum is deprecated. In a future version, numeric_only will default to False. Either specify numeric_only or select only columns which should be valid for the function.\n",
      "  df_trade_pop = df_trade.groupby('dist_id').sum()[['POP100']].reset_index()\n"
     ]
    },
    {
     "name": "stdout",
     "output_type": "stream",
     "text": [
      "251515\n"
     ]
    },
    {
     "name": "stderr",
     "output_type": "stream",
     "text": [
      "C:\\Users\\Ethan\\AppData\\Local\\Temp\\ipykernel_10760\\633365314.py:25: FutureWarning: The default value of numeric_only in DataFrameGroupBy.sum is deprecated. In a future version, numeric_only will default to False. Either specify numeric_only or select only columns which should be valid for the function.\n",
      "  df_trade_pop = df_trade.groupby('dist_id').sum()[['POP100']].reset_index()\n"
     ]
    },
    {
     "name": "stdout",
     "output_type": "stream",
     "text": [
      "250978\n"
     ]
    },
    {
     "name": "stderr",
     "output_type": "stream",
     "text": [
      "C:\\Users\\Ethan\\AppData\\Local\\Temp\\ipykernel_10760\\633365314.py:25: FutureWarning: The default value of numeric_only in DataFrameGroupBy.sum is deprecated. In a future version, numeric_only will default to False. Either specify numeric_only or select only columns which should be valid for the function.\n",
      "  df_trade_pop = df_trade.groupby('dist_id').sum()[['POP100']].reset_index()\n"
     ]
    },
    {
     "name": "stdout",
     "output_type": "stream",
     "text": [
      "249819\n"
     ]
    }
   ],
   "source": [
    "\n",
    "batch_balance_transfer(df)\n",
    "print(\"Switching to single-precinct approach.\")\n",
    "single_balance_transfer(df)\n"
   ]
  },
  {
   "cell_type": "code",
   "execution_count": 216,
   "id": "11933126",
   "metadata": {},
   "outputs": [
    {
     "data": {
      "text/plain": [
       "[<matplotlib.lines.Line2D at 0x155a7c30a30>]"
      ]
     },
     "execution_count": 216,
     "metadata": {},
     "output_type": "execute_result"
    },
    {
     "data": {
      "image/png": "[encoded data removed]",
      "text/plain": [
       "<Figure size 640x480 with 1 Axes>"
      ]
     },
     "metadata": {},
     "output_type": "display_data"
    }
   ],
   "source": [
    "plt.pyplot.plot(run_dict.keys(), run_dict.values())"
   ]
  }
 ],
 "metadata": {
  "kernelspec": {
   "display_name": "Python 3.9.12 ('.venv': poetry)",
   "language": "python",
   "name": "python3"
  },
  "language_info": {
   "codemirror_mode": {
    "name": "ipython",
    "version": 3
   },
   "file_extension": ".py",
   "mimetype": "text/x-python",
   "name": "python",
   "nbconvert_exporter": "python",
   "pygments_lexer": "ipython3",
   "version": "3.9.12"
  },
  "vscode": {
   "interpreter": {
    "hash": "7316b7a25236d4ac64ee06b7f92a0dd4a93d8cfdb6866c466e614ab695ad5ed6"
   }
  }
 },
 "nbformat": 4,
 "nbformat_minor": 5
}
